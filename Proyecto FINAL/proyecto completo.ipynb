{
 "cells": [
  {
   "cell_type": "markdown",
   "id": "linear-bridge",
   "metadata": {},
   "source": [
    "# <img src=\"imagenes\\logo uem.png\" width=\"300\" height=\"600\" align=\"left \"><b>PROYECTO OPEN DATA II     -          *Universidad Europea de Madrid*\n",
    "\n",
    "   > ## <font color='blue'>Predictor de precios de venta de viviendas en Ames, Iowa, EEUU</font>  \n",
    "<div style=\" color:#000000; font-style: normal; font-family: Georgia;\">\n",
    "    Alumnos: Carlos García y Víctor Salvador"
   ]
  },
  {
   "cell_type": "markdown",
   "id": "aea02963",
   "metadata": {},
   "source": [
    "<img src=\"imagenes\\ames.jpg\" width=\"1000\" height=\"600\">"
   ]
  },
  {
   "cell_type": "markdown",
   "id": "little-estimate",
   "metadata": {},
   "source": [
    "*** "
   ]
  },
  {
   "cell_type": "markdown",
   "id": "horizontal-craps",
   "metadata": {},
   "source": [
    "## 1. Importación y limpieza de datos"
   ]
  },
  {
   "cell_type": "markdown",
   "id": "proper-italy",
   "metadata": {},
   "source": [
    "### 1.1 Librerías importadas "
   ]
  },
  {
   "cell_type": "code",
   "execution_count": 1,
   "id": "floral-russia",
   "metadata": {},
   "outputs": [],
   "source": [
    "import warnings   #Control de advertencias\n",
    "import pandas as pd\n",
    "import numpy as np\n",
    "import matplotlib.pyplot as plt\n",
    "import seaborn as sns\n",
    "from pandas.core.common import SettingWithCopyWarning\n",
    "warnings.simplefilter(action=\"ignore\", category=SettingWithCopyWarning)"
   ]
  },
  {
   "cell_type": "markdown",
   "id": "threatened-stake",
   "metadata": {},
   "source": [
    "### 1.2 Datos importados"
   ]
  },
  {
   "cell_type": "code",
   "execution_count": 2,
   "id": "neither-luther",
   "metadata": {},
   "outputs": [
    {
     "name": "stdout",
     "output_type": "stream",
     "text": [
      "Total size is (2919, 80)\n",
      "Index(['MSSubClass', 'MSZoning', 'LotFrontage', 'LotArea', 'Street', 'Alley',\n",
      "       'LotShape', 'LandContour', 'Utilities', 'LotConfig', 'LandSlope',\n",
      "       'Neighborhood', 'Condition1', 'Condition2', 'BldgType', 'HouseStyle',\n",
      "       'OverallQual', 'OverallCond', 'YearBuilt', 'YearRemodAdd', 'RoofStyle',\n",
      "       'RoofMatl', 'Exterior1st', 'Exterior2nd', 'MasVnrType', 'MasVnrArea',\n",
      "       'ExterQual', 'ExterCond', 'Foundation', 'BsmtQual', 'BsmtCond',\n",
      "       'BsmtExposure', 'BsmtFinType1', 'BsmtFinSF1', 'BsmtFinType2',\n",
      "       'BsmtFinSF2', 'BsmtUnfSF', 'TotalBsmtSF', 'Heating', 'HeatingQC',\n",
      "       'CentralAir', 'Electrical', '1stFlrSF', '2ndFlrSF', 'LowQualFinSF',\n",
      "       'GrLivArea', 'BsmtFullBath', 'BsmtHalfBath', 'FullBath', 'HalfBath',\n",
      "       'BedroomAbvGr', 'KitchenAbvGr', 'KitchenQual', 'TotRmsAbvGrd',\n",
      "       'Functional', 'Fireplaces', 'FireplaceQu', 'GarageType', 'GarageYrBlt',\n",
      "       'GarageFinish', 'GarageCars', 'GarageArea', 'GarageQual', 'GarageCond',\n",
      "       'PavedDrive', 'WoodDeckSF', 'OpenPorchSF', 'EnclosedPorch', '3SsnPorch',\n",
      "       'ScreenPorch', 'PoolArea', 'PoolQC', 'Fence', 'MiscFeature', 'MiscVal',\n",
      "       'MoSold', 'YrSold', 'SaleType', 'SaleCondition', 'SalePrice'],\n",
      "      dtype='object')\n"
     ]
    }
   ],
   "source": [
    "train=pd.read_csv('./train.csv',index_col=['Id'])\n",
    "test_ns=pd.read_csv('./test.csv',index_col=['Id'])\n",
    "SalePrice=pd.read_csv('./sample_submission.csv',names=['Id','SalePrice'],skiprows=1,index_col=['Id'])\n",
    "test=pd.concat((test_ns,SalePrice),axis=1) #distinguiremos el train y el test más adelante\n",
    "\n",
    "house=pd.concat((train,test),sort=False).reset_index(drop=True)\n",
    "print(f\"Total size is {house.shape}\")\n",
    "print(house.columns)"
   ]
  },
  {
   "cell_type": "markdown",
   "id": "waiting-jamaica",
   "metadata": {},
   "source": [
    "### 1.3 Limpieza de datos <img src=\"imagenes\\limpieza datos 3.png\" width=\"80\" height=\"100\" align=\"left \">"
   ]
  },
  {
   "cell_type": "markdown",
   "id": "abandoned-performer",
   "metadata": {},
   "source": [
    "#### Eliminación de campos demasiado vacíos"
   ]
  },
  {
   "cell_type": "code",
   "execution_count": 3,
   "id": "stock-diary",
   "metadata": {},
   "outputs": [
    {
     "name": "stdout",
     "output_type": "stream",
     "text": [
      "5 campos eliminados del dataset\n"
     ]
    }
   ],
   "source": [
    "h=house.dropna(thresh=len(house)*0.8,axis=1)\n",
    "print(f'{house.shape[1]-h.shape[1]} campos eliminados del dataset') "
   ]
  },
  {
   "cell_type": "code",
   "execution_count": 4,
   "id": "emotional-things",
   "metadata": {},
   "outputs": [],
   "source": [
    "allna = (h.isnull().sum() / len(h))*100             \n",
    "allna = allna.drop(allna[allna == 0].index).sort_values()\n",
    "NA=h[allna.index.to_list()]"
   ]
  },
  {
   "cell_type": "markdown",
   "id": "compressed-garlic",
   "metadata": {},
   "source": [
    "#### Relleno de valores vacíos"
   ]
  },
  {
   "cell_type": "code",
   "execution_count": 5,
   "id": "sharp-boring",
   "metadata": {},
   "outputs": [
    {
     "name": "stdout",
     "output_type": "stream",
     "text": [
      "Tenemos 18 campos categóricos con valores vacíos\n",
      "Tenemos 11 campos numéricos con valores vacíos\n"
     ]
    }
   ],
   "source": [
    "NAcat=NA.select_dtypes(include='object') #no que no es numérico\n",
    "NAnum=NA.select_dtypes(exclude='object') #lo que es numérico\n",
    "print(f'Tenemos {NAcat.shape[1]} campos categóricos con valores vacíos')\n",
    "print(f'Tenemos {NAnum.shape[1]} campos numéricos con valores vacíos')"
   ]
  },
  {
   "cell_type": "code",
   "execution_count": 6,
   "id": "based-sussex",
   "metadata": {},
   "outputs": [
    {
     "data": {
      "text/plain": [
       "Index(['BsmtUnfSF', 'GarageArea', 'GarageCars', 'TotalBsmtSF', 'BsmtFinSF2',\n",
       "       'BsmtFinSF1', 'BsmtHalfBath', 'BsmtFullBath', 'MasVnrArea',\n",
       "       'GarageYrBlt', 'LotFrontage'],\n",
       "      dtype='object')"
      ]
     },
     "execution_count": 6,
     "metadata": {},
     "output_type": "execute_result"
    }
   ],
   "source": [
    "NAnum.columns"
   ]
  },
  {
   "cell_type": "code",
   "execution_count": 7,
   "id": "surprising-plymouth",
   "metadata": {},
   "outputs": [],
   "source": [
    "NCol=[['MasVnrArea'],['BsmtFinSF2'],['BsmtFullBath'],['BsmtHalfBath'],\n",
    "      ['BsmtUnfSF'],['TotalBsmtSF'],['BsmtFinSF1'],['GarageCars'],['GarageArea']]\n",
    "\n",
    "for col in NCol:\n",
    "    h[col]= h[col].fillna(0) #Rellenamos los vacíos con 0 porque Na significa la ausencia de estas características\n",
    "#media\n",
    "h['LotFrontage']=h['LotFrontage'].fillna(h.LotFrontage.mean()) #Rellenamos los valores vacíos con la media\n",
    "h['GarageYrBlt']=h[\"GarageYrBlt\"].fillna(h.GarageYrBlt.median()) #Rellenamos los varloes vacíos con la mediana"
   ]
  },
  {
   "cell_type": "code",
   "execution_count": 8,
   "id": "lesser-radar",
   "metadata": {},
   "outputs": [],
   "source": [
    "def filling_NA(data, columns, METHOD='ffill'): #Función para rellenar columnas \n",
    "    fill_cols = columns\n",
    "    \n",
    "    for col in data[fill_cols]:\n",
    "        data[col]= data[col].fillna(method=METHOD) \n",
    "        #ffill significa 'forward fill' y propagará la última observación válida hacia adelante.\n",
    "    \n",
    "    return data\n",
    "\n",
    "ffill_cols = ['Electrical', 'SaleType', 'KitchenQual', 'Exterior1st',\n",
    "             'Exterior2nd', 'Functional', 'Utilities', 'MSZoning']\n",
    "\n",
    "\n",
    "hh=filling_NA(h, ffill_cols)"
   ]
  },
  {
   "cell_type": "code",
   "execution_count": 9,
   "id": "worse-scientist",
   "metadata": {},
   "outputs": [],
   "source": [
    "NAcols=hh.columns\n",
    "for col in NAcols:\n",
    "    if hh[col].dtype == \"object\":\n",
    "        hh[col] = hh[col].fillna(\"None\")"
   ]
  },
  {
   "cell_type": "code",
   "execution_count": 10,
   "id": "promotional-lodge",
   "metadata": {},
   "outputs": [
    {
     "data": {
      "text/plain": [
       "MSSubClass      0\n",
       "GarageYrBlt     0\n",
       "Fireplaces      0\n",
       "Functional      0\n",
       "TotRmsAbvGrd    0\n",
       "dtype: int64"
      ]
     },
     "execution_count": 10,
     "metadata": {},
     "output_type": "execute_result"
    }
   ],
   "source": [
    "hh.isnull().sum().sort_values(ascending=False).head()"
   ]
  },
  {
   "cell_type": "markdown",
   "id": "compatible-richmond",
   "metadata": {},
   "source": [
    "Ningun valor vacío en nuestro dataset"
   ]
  },
  {
   "cell_type": "markdown",
   "id": "operational-trader",
   "metadata": {},
   "source": [
    "#### Agrupación de campos relacionados"
   ]
  },
  {
   "cell_type": "code",
   "execution_count": 11,
   "id": "monthly-separation",
   "metadata": {},
   "outputs": [],
   "source": [
    "hh['TotalArea'] = hh['TotalBsmtSF'] + hh['1stFlrSF'] + hh['2ndFlrSF'] + hh['GrLivArea'] +hh['GarageArea']\n",
    "\n",
    "hh['Bathrooms'] = hh['FullBath'] + hh['HalfBath']*0.5 \n",
    "\n",
    "hh['YearAverage']= (hh['YearRemodAdd']+hh['YearBuilt'])/2"
   ]
  },
  {
   "cell_type": "code",
   "execution_count": 12,
   "id": "marine-copying",
   "metadata": {},
   "outputs": [],
   "source": [
    "hh['PrecioVenta']=hh['SalePrice']"
   ]
  },
  {
   "cell_type": "code",
   "execution_count": 13,
   "id": "graphic-hospital",
   "metadata": {},
   "outputs": [],
   "source": [
    "hh=hh.drop(['TotalBsmtSF','1stFlrSF','2ndFlrSF','GrLivArea','GarageArea',\n",
    "        'FullBath','HalfBath','YearRemodAdd','YearBuilt','SalePrice'], axis=1)"
   ]
  },
  {
   "cell_type": "markdown",
   "id": "macro-distance",
   "metadata": {},
   "source": [
    "#### Eliminación de las columnas de tipo objeto"
   ]
  },
  {
   "cell_type": "markdown",
   "id": "incorporated-stylus",
   "metadata": {},
   "source": [
    "Por la naturaleza de los algoritmos de regresión que utilizaremos más adelante, prescindiremos de las columnas tipo object. A excepción del campo **Neighborhood**, debido a su relevancia ya demostrada en la parte exploratoria de este proyecto; la cual será **discretizada** a continuación."
   ]
  },
  {
   "cell_type": "code",
   "execution_count": 14,
   "id": "organized-chorus",
   "metadata": {},
   "outputs": [
    {
     "data": {
      "text/html": [
       "<div>\n",
       "<style scoped>\n",
       "    .dataframe tbody tr th:only-of-type {\n",
       "        vertical-align: middle;\n",
       "    }\n",
       "\n",
       "    .dataframe tbody tr th {\n",
       "        vertical-align: top;\n",
       "    }\n",
       "\n",
       "    .dataframe thead th {\n",
       "        text-align: right;\n",
       "    }\n",
       "</style>\n",
       "<table border=\"1\" class=\"dataframe\">\n",
       "  <thead>\n",
       "    <tr style=\"text-align: right;\">\n",
       "      <th></th>\n",
       "      <th>MSSubClass</th>\n",
       "      <th>MSZoning</th>\n",
       "      <th>LotFrontage</th>\n",
       "      <th>LotArea</th>\n",
       "      <th>Street</th>\n",
       "      <th>LotShape</th>\n",
       "      <th>LandContour</th>\n",
       "      <th>Utilities</th>\n",
       "      <th>LotConfig</th>\n",
       "      <th>LandSlope</th>\n",
       "      <th>...</th>\n",
       "      <th>PoolArea</th>\n",
       "      <th>MiscVal</th>\n",
       "      <th>MoSold</th>\n",
       "      <th>YrSold</th>\n",
       "      <th>SaleType</th>\n",
       "      <th>SaleCondition</th>\n",
       "      <th>TotalArea</th>\n",
       "      <th>Bathrooms</th>\n",
       "      <th>YearAverage</th>\n",
       "      <th>PrecioVenta</th>\n",
       "    </tr>\n",
       "  </thead>\n",
       "  <tbody>\n",
       "    <tr>\n",
       "      <th>0</th>\n",
       "      <td>60</td>\n",
       "      <td>RL</td>\n",
       "      <td>65.0</td>\n",
       "      <td>8450</td>\n",
       "      <td>Pave</td>\n",
       "      <td>Reg</td>\n",
       "      <td>Lvl</td>\n",
       "      <td>AllPub</td>\n",
       "      <td>Inside</td>\n",
       "      <td>Gtl</td>\n",
       "      <td>...</td>\n",
       "      <td>0</td>\n",
       "      <td>0</td>\n",
       "      <td>2</td>\n",
       "      <td>2008</td>\n",
       "      <td>WD</td>\n",
       "      <td>Normal</td>\n",
       "      <td>4824.0</td>\n",
       "      <td>2.5</td>\n",
       "      <td>2003.0</td>\n",
       "      <td>208500.000000</td>\n",
       "    </tr>\n",
       "    <tr>\n",
       "      <th>1</th>\n",
       "      <td>20</td>\n",
       "      <td>RL</td>\n",
       "      <td>80.0</td>\n",
       "      <td>9600</td>\n",
       "      <td>Pave</td>\n",
       "      <td>Reg</td>\n",
       "      <td>Lvl</td>\n",
       "      <td>AllPub</td>\n",
       "      <td>FR2</td>\n",
       "      <td>Gtl</td>\n",
       "      <td>...</td>\n",
       "      <td>0</td>\n",
       "      <td>0</td>\n",
       "      <td>5</td>\n",
       "      <td>2007</td>\n",
       "      <td>WD</td>\n",
       "      <td>Normal</td>\n",
       "      <td>4246.0</td>\n",
       "      <td>2.0</td>\n",
       "      <td>1976.0</td>\n",
       "      <td>181500.000000</td>\n",
       "    </tr>\n",
       "    <tr>\n",
       "      <th>2</th>\n",
       "      <td>60</td>\n",
       "      <td>RL</td>\n",
       "      <td>68.0</td>\n",
       "      <td>11250</td>\n",
       "      <td>Pave</td>\n",
       "      <td>IR1</td>\n",
       "      <td>Lvl</td>\n",
       "      <td>AllPub</td>\n",
       "      <td>Inside</td>\n",
       "      <td>Gtl</td>\n",
       "      <td>...</td>\n",
       "      <td>0</td>\n",
       "      <td>0</td>\n",
       "      <td>9</td>\n",
       "      <td>2008</td>\n",
       "      <td>WD</td>\n",
       "      <td>Normal</td>\n",
       "      <td>5100.0</td>\n",
       "      <td>2.5</td>\n",
       "      <td>2001.5</td>\n",
       "      <td>223500.000000</td>\n",
       "    </tr>\n",
       "    <tr>\n",
       "      <th>3</th>\n",
       "      <td>70</td>\n",
       "      <td>RL</td>\n",
       "      <td>60.0</td>\n",
       "      <td>9550</td>\n",
       "      <td>Pave</td>\n",
       "      <td>IR1</td>\n",
       "      <td>Lvl</td>\n",
       "      <td>AllPub</td>\n",
       "      <td>Corner</td>\n",
       "      <td>Gtl</td>\n",
       "      <td>...</td>\n",
       "      <td>0</td>\n",
       "      <td>0</td>\n",
       "      <td>2</td>\n",
       "      <td>2006</td>\n",
       "      <td>WD</td>\n",
       "      <td>Abnorml</td>\n",
       "      <td>4832.0</td>\n",
       "      <td>1.0</td>\n",
       "      <td>1942.5</td>\n",
       "      <td>140000.000000</td>\n",
       "    </tr>\n",
       "    <tr>\n",
       "      <th>4</th>\n",
       "      <td>60</td>\n",
       "      <td>RL</td>\n",
       "      <td>84.0</td>\n",
       "      <td>14260</td>\n",
       "      <td>Pave</td>\n",
       "      <td>IR1</td>\n",
       "      <td>Lvl</td>\n",
       "      <td>AllPub</td>\n",
       "      <td>FR2</td>\n",
       "      <td>Gtl</td>\n",
       "      <td>...</td>\n",
       "      <td>0</td>\n",
       "      <td>0</td>\n",
       "      <td>12</td>\n",
       "      <td>2008</td>\n",
       "      <td>WD</td>\n",
       "      <td>Normal</td>\n",
       "      <td>6377.0</td>\n",
       "      <td>2.5</td>\n",
       "      <td>2000.0</td>\n",
       "      <td>250000.000000</td>\n",
       "    </tr>\n",
       "    <tr>\n",
       "      <th>...</th>\n",
       "      <td>...</td>\n",
       "      <td>...</td>\n",
       "      <td>...</td>\n",
       "      <td>...</td>\n",
       "      <td>...</td>\n",
       "      <td>...</td>\n",
       "      <td>...</td>\n",
       "      <td>...</td>\n",
       "      <td>...</td>\n",
       "      <td>...</td>\n",
       "      <td>...</td>\n",
       "      <td>...</td>\n",
       "      <td>...</td>\n",
       "      <td>...</td>\n",
       "      <td>...</td>\n",
       "      <td>...</td>\n",
       "      <td>...</td>\n",
       "      <td>...</td>\n",
       "      <td>...</td>\n",
       "      <td>...</td>\n",
       "      <td>...</td>\n",
       "    </tr>\n",
       "    <tr>\n",
       "      <th>2914</th>\n",
       "      <td>160</td>\n",
       "      <td>RM</td>\n",
       "      <td>21.0</td>\n",
       "      <td>1936</td>\n",
       "      <td>Pave</td>\n",
       "      <td>Reg</td>\n",
       "      <td>Lvl</td>\n",
       "      <td>AllPub</td>\n",
       "      <td>Inside</td>\n",
       "      <td>Gtl</td>\n",
       "      <td>...</td>\n",
       "      <td>0</td>\n",
       "      <td>0</td>\n",
       "      <td>6</td>\n",
       "      <td>2006</td>\n",
       "      <td>WD</td>\n",
       "      <td>Normal</td>\n",
       "      <td>2730.0</td>\n",
       "      <td>1.5</td>\n",
       "      <td>1970.0</td>\n",
       "      <td>167081.220949</td>\n",
       "    </tr>\n",
       "    <tr>\n",
       "      <th>2915</th>\n",
       "      <td>160</td>\n",
       "      <td>RM</td>\n",
       "      <td>21.0</td>\n",
       "      <td>1894</td>\n",
       "      <td>Pave</td>\n",
       "      <td>Reg</td>\n",
       "      <td>Lvl</td>\n",
       "      <td>AllPub</td>\n",
       "      <td>Inside</td>\n",
       "      <td>Gtl</td>\n",
       "      <td>...</td>\n",
       "      <td>0</td>\n",
       "      <td>0</td>\n",
       "      <td>4</td>\n",
       "      <td>2006</td>\n",
       "      <td>WD</td>\n",
       "      <td>Abnorml</td>\n",
       "      <td>3016.0</td>\n",
       "      <td>1.5</td>\n",
       "      <td>1970.0</td>\n",
       "      <td>164788.778231</td>\n",
       "    </tr>\n",
       "    <tr>\n",
       "      <th>2916</th>\n",
       "      <td>20</td>\n",
       "      <td>RL</td>\n",
       "      <td>160.0</td>\n",
       "      <td>20000</td>\n",
       "      <td>Pave</td>\n",
       "      <td>Reg</td>\n",
       "      <td>Lvl</td>\n",
       "      <td>AllPub</td>\n",
       "      <td>Inside</td>\n",
       "      <td>Gtl</td>\n",
       "      <td>...</td>\n",
       "      <td>0</td>\n",
       "      <td>0</td>\n",
       "      <td>9</td>\n",
       "      <td>2006</td>\n",
       "      <td>WD</td>\n",
       "      <td>Abnorml</td>\n",
       "      <td>4248.0</td>\n",
       "      <td>1.0</td>\n",
       "      <td>1978.0</td>\n",
       "      <td>219222.423400</td>\n",
       "    </tr>\n",
       "    <tr>\n",
       "      <th>2917</th>\n",
       "      <td>85</td>\n",
       "      <td>RL</td>\n",
       "      <td>62.0</td>\n",
       "      <td>10441</td>\n",
       "      <td>Pave</td>\n",
       "      <td>Reg</td>\n",
       "      <td>Lvl</td>\n",
       "      <td>AllPub</td>\n",
       "      <td>Inside</td>\n",
       "      <td>Gtl</td>\n",
       "      <td>...</td>\n",
       "      <td>0</td>\n",
       "      <td>700</td>\n",
       "      <td>7</td>\n",
       "      <td>2006</td>\n",
       "      <td>WD</td>\n",
       "      <td>Normal</td>\n",
       "      <td>2852.0</td>\n",
       "      <td>1.0</td>\n",
       "      <td>1992.0</td>\n",
       "      <td>184924.279659</td>\n",
       "    </tr>\n",
       "    <tr>\n",
       "      <th>2918</th>\n",
       "      <td>60</td>\n",
       "      <td>RL</td>\n",
       "      <td>74.0</td>\n",
       "      <td>9627</td>\n",
       "      <td>Pave</td>\n",
       "      <td>Reg</td>\n",
       "      <td>Lvl</td>\n",
       "      <td>AllPub</td>\n",
       "      <td>Inside</td>\n",
       "      <td>Mod</td>\n",
       "      <td>...</td>\n",
       "      <td>0</td>\n",
       "      <td>0</td>\n",
       "      <td>11</td>\n",
       "      <td>2006</td>\n",
       "      <td>WD</td>\n",
       "      <td>Normal</td>\n",
       "      <td>5646.0</td>\n",
       "      <td>2.5</td>\n",
       "      <td>1993.5</td>\n",
       "      <td>187741.866657</td>\n",
       "    </tr>\n",
       "  </tbody>\n",
       "</table>\n",
       "<p>2919 rows × 69 columns</p>\n",
       "</div>"
      ],
      "text/plain": [
       "      MSSubClass MSZoning  LotFrontage  LotArea Street LotShape LandContour  \\\n",
       "0             60       RL         65.0     8450   Pave      Reg         Lvl   \n",
       "1             20       RL         80.0     9600   Pave      Reg         Lvl   \n",
       "2             60       RL         68.0    11250   Pave      IR1         Lvl   \n",
       "3             70       RL         60.0     9550   Pave      IR1         Lvl   \n",
       "4             60       RL         84.0    14260   Pave      IR1         Lvl   \n",
       "...          ...      ...          ...      ...    ...      ...         ...   \n",
       "2914         160       RM         21.0     1936   Pave      Reg         Lvl   \n",
       "2915         160       RM         21.0     1894   Pave      Reg         Lvl   \n",
       "2916          20       RL        160.0    20000   Pave      Reg         Lvl   \n",
       "2917          85       RL         62.0    10441   Pave      Reg         Lvl   \n",
       "2918          60       RL         74.0     9627   Pave      Reg         Lvl   \n",
       "\n",
       "     Utilities LotConfig LandSlope  ... PoolArea MiscVal MoSold YrSold  \\\n",
       "0       AllPub    Inside       Gtl  ...        0       0      2   2008   \n",
       "1       AllPub       FR2       Gtl  ...        0       0      5   2007   \n",
       "2       AllPub    Inside       Gtl  ...        0       0      9   2008   \n",
       "3       AllPub    Corner       Gtl  ...        0       0      2   2006   \n",
       "4       AllPub       FR2       Gtl  ...        0       0     12   2008   \n",
       "...        ...       ...       ...  ...      ...     ...    ...    ...   \n",
       "2914    AllPub    Inside       Gtl  ...        0       0      6   2006   \n",
       "2915    AllPub    Inside       Gtl  ...        0       0      4   2006   \n",
       "2916    AllPub    Inside       Gtl  ...        0       0      9   2006   \n",
       "2917    AllPub    Inside       Gtl  ...        0     700      7   2006   \n",
       "2918    AllPub    Inside       Mod  ...        0       0     11   2006   \n",
       "\n",
       "     SaleType  SaleCondition  TotalArea Bathrooms YearAverage    PrecioVenta  \n",
       "0          WD         Normal     4824.0       2.5      2003.0  208500.000000  \n",
       "1          WD         Normal     4246.0       2.0      1976.0  181500.000000  \n",
       "2          WD         Normal     5100.0       2.5      2001.5  223500.000000  \n",
       "3          WD        Abnorml     4832.0       1.0      1942.5  140000.000000  \n",
       "4          WD         Normal     6377.0       2.5      2000.0  250000.000000  \n",
       "...       ...            ...        ...       ...         ...            ...  \n",
       "2914       WD         Normal     2730.0       1.5      1970.0  167081.220949  \n",
       "2915       WD        Abnorml     3016.0       1.5      1970.0  164788.778231  \n",
       "2916       WD        Abnorml     4248.0       1.0      1978.0  219222.423400  \n",
       "2917       WD         Normal     2852.0       1.0      1992.0  184924.279659  \n",
       "2918       WD         Normal     5646.0       2.5      1993.5  187741.866657  \n",
       "\n",
       "[2919 rows x 69 columns]"
      ]
     },
     "execution_count": 14,
     "metadata": {},
     "output_type": "execute_result"
    }
   ],
   "source": [
    "hh"
   ]
  },
  {
   "cell_type": "markdown",
   "id": "a819b2f9",
   "metadata": {},
   "source": [
    "Como vamos a transformar la variable Neighborhood de categórica a numérica, ordenamos el campo por el precio de venta para facilitar el entrenamiento de los modelos posteriores."
   ]
  },
  {
   "cell_type": "code",
   "execution_count": 15,
   "id": "noble-stamp",
   "metadata": {},
   "outputs": [
    {
     "data": {
      "text/html": [
       "<div>\n",
       "<style scoped>\n",
       "    .dataframe tbody tr th:only-of-type {\n",
       "        vertical-align: middle;\n",
       "    }\n",
       "\n",
       "    .dataframe tbody tr th {\n",
       "        vertical-align: top;\n",
       "    }\n",
       "\n",
       "    .dataframe thead th {\n",
       "        text-align: right;\n",
       "    }\n",
       "</style>\n",
       "<table border=\"1\" class=\"dataframe\">\n",
       "  <thead>\n",
       "    <tr style=\"text-align: right;\">\n",
       "      <th></th>\n",
       "      <th>PrecioVenta</th>\n",
       "    </tr>\n",
       "    <tr>\n",
       "      <th>Neighborhood</th>\n",
       "      <th></th>\n",
       "    </tr>\n",
       "  </thead>\n",
       "  <tbody>\n",
       "    <tr>\n",
       "      <th>BrDale</th>\n",
       "      <td>131115.774599</td>\n",
       "    </tr>\n",
       "    <tr>\n",
       "      <th>MeadowV</th>\n",
       "      <td>132416.435267</td>\n",
       "    </tr>\n",
       "    <tr>\n",
       "      <th>BrkSide</th>\n",
       "      <td>145220.512937</td>\n",
       "    </tr>\n",
       "    <tr>\n",
       "      <th>IDOTRR</th>\n",
       "      <td>146009.863881</td>\n",
       "    </tr>\n",
       "    <tr>\n",
       "      <th>Blueste</th>\n",
       "      <td>147818.180856</td>\n",
       "    </tr>\n",
       "    <tr>\n",
       "      <th>Edwards</th>\n",
       "      <td>153536.157230</td>\n",
       "    </tr>\n",
       "    <tr>\n",
       "      <th>OldTown</th>\n",
       "      <td>153584.509587</td>\n",
       "    </tr>\n",
       "    <tr>\n",
       "      <th>NPkVill</th>\n",
       "      <td>153789.328802</td>\n",
       "    </tr>\n",
       "    <tr>\n",
       "      <th>SWISU</th>\n",
       "      <td>158269.946222</td>\n",
       "    </tr>\n",
       "    <tr>\n",
       "      <th>Sawyer</th>\n",
       "      <td>159222.157177</td>\n",
       "    </tr>\n",
       "    <tr>\n",
       "      <th>NAmes</th>\n",
       "      <td>162769.341205</td>\n",
       "    </tr>\n",
       "    <tr>\n",
       "      <th>Mitchel</th>\n",
       "      <td>171442.470149</td>\n",
       "    </tr>\n",
       "    <tr>\n",
       "      <th>Blmngtn</th>\n",
       "      <td>179745.053659</td>\n",
       "    </tr>\n",
       "    <tr>\n",
       "      <th>SawyerW</th>\n",
       "      <td>184962.239069</td>\n",
       "    </tr>\n",
       "    <tr>\n",
       "      <th>NWAmes</th>\n",
       "      <td>188242.409880</td>\n",
       "    </tr>\n",
       "    <tr>\n",
       "      <th>Gilbert</th>\n",
       "      <td>188999.065887</td>\n",
       "    </tr>\n",
       "    <tr>\n",
       "      <th>CollgCr</th>\n",
       "      <td>190383.778312</td>\n",
       "    </tr>\n",
       "    <tr>\n",
       "      <th>Somerst</th>\n",
       "      <td>196386.237168</td>\n",
       "    </tr>\n",
       "    <tr>\n",
       "      <th>Crawfor</th>\n",
       "      <td>197075.993040</td>\n",
       "    </tr>\n",
       "    <tr>\n",
       "      <th>ClearCr</th>\n",
       "      <td>201841.549164</td>\n",
       "    </tr>\n",
       "    <tr>\n",
       "      <th>Veenker</th>\n",
       "      <td>208532.115596</td>\n",
       "    </tr>\n",
       "    <tr>\n",
       "      <th>Timber</th>\n",
       "      <td>214270.893727</td>\n",
       "    </tr>\n",
       "    <tr>\n",
       "      <th>NridgHt</th>\n",
       "      <td>243751.175245</td>\n",
       "    </tr>\n",
       "    <tr>\n",
       "      <th>StoneBr</th>\n",
       "      <td>245141.360470</td>\n",
       "    </tr>\n",
       "    <tr>\n",
       "      <th>NoRidge</th>\n",
       "      <td>275074.860533</td>\n",
       "    </tr>\n",
       "  </tbody>\n",
       "</table>\n",
       "</div>"
      ],
      "text/plain": [
       "                PrecioVenta\n",
       "Neighborhood               \n",
       "BrDale        131115.774599\n",
       "MeadowV       132416.435267\n",
       "BrkSide       145220.512937\n",
       "IDOTRR        146009.863881\n",
       "Blueste       147818.180856\n",
       "Edwards       153536.157230\n",
       "OldTown       153584.509587\n",
       "NPkVill       153789.328802\n",
       "SWISU         158269.946222\n",
       "Sawyer        159222.157177\n",
       "NAmes         162769.341205\n",
       "Mitchel       171442.470149\n",
       "Blmngtn       179745.053659\n",
       "SawyerW       184962.239069\n",
       "NWAmes        188242.409880\n",
       "Gilbert       188999.065887\n",
       "CollgCr       190383.778312\n",
       "Somerst       196386.237168\n",
       "Crawfor       197075.993040\n",
       "ClearCr       201841.549164\n",
       "Veenker       208532.115596\n",
       "Timber        214270.893727\n",
       "NridgHt       243751.175245\n",
       "StoneBr       245141.360470\n",
       "NoRidge       275074.860533"
      ]
     },
     "execution_count": 15,
     "metadata": {},
     "output_type": "execute_result"
    }
   ],
   "source": [
    "aa=pd.DataFrame(hh['Neighborhood'])\n",
    "aa['PrecioVenta']=hh['PrecioVenta']\n",
    "aa.groupby(['Neighborhood']).mean().sort_values('PrecioVenta')"
   ]
  },
  {
   "cell_type": "code",
   "execution_count": 16,
   "id": "ruled-communication",
   "metadata": {},
   "outputs": [],
   "source": [
    "hh['Neighborhood']=hh['Neighborhood'].replace({'BrDale':1,'MeadowV':2,'BrkSide':3,\n",
    "                                                              'IDOTRR':4,'Blueste':5,'Edwards':6,\n",
    "                                                              'OldTown':7,'NPkVill':8,'SWISU':9,\n",
    "                                                              'Sawyer':10,'NAmes':11,'Mitchel':12,\n",
    "                                                              'Blmngtn':13,'SawyerW':14,'NWAmes':15,\n",
    "                                                              'Gilbert':16,'CollgCr':17,'Somerst':18,\n",
    "                                                              'Crawfor':19,'ClearCr':20,'Veenker':21,\n",
    "                                                              'Timber':22,'NridgHt':23,'StoneBr':24,\n",
    "                                                              'NoRidge':25})"
   ]
  },
  {
   "cell_type": "code",
   "execution_count": 17,
   "id": "specialized-panel",
   "metadata": {},
   "outputs": [
    {
     "data": {
      "text/plain": [
       "dtype('int64')"
      ]
     },
     "execution_count": 17,
     "metadata": {},
     "output_type": "execute_result"
    }
   ],
   "source": [
    "hh.Neighborhood.dtype"
   ]
  },
  {
   "cell_type": "code",
   "execution_count": 18,
   "id": "accepting-affect",
   "metadata": {},
   "outputs": [],
   "source": [
    "vars_train=hh.select_dtypes(exclude='object')"
   ]
  },
  {
   "cell_type": "markdown",
   "id": "occasional-technical",
   "metadata": {},
   "source": [
    "## 2.  Importar pyspark"
   ]
  },
  {
   "cell_type": "markdown",
   "id": "manual-fundamental",
   "metadata": {},
   "source": [
    "Apache Spark es una plataforma de **computación distribuida** de código abierto, algunas de las ventajas que justifican su uso son:\n",
    "* **Velocidad en materia de aprendizaje automático**: permite a los programadores realizar operaciones sobre un gran volumen de datos en clústeres de forma rápida y con tolerancia a fallos\n",
    "* **Distintas plataformas** para gestionar y procesar datos, como Spark SQL, Spark Streaming, Mlib o Graph X.\n",
    "<img src=\"imagenes\\pyspark2.png\" width=\"600\" height=\"300\" align=\"center \">"
   ]
  },
  {
   "cell_type": "markdown",
   "id": "loaded-liberia",
   "metadata": {},
   "source": [
    "### 2.1 Preparación de las variables"
   ]
  },
  {
   "cell_type": "code",
   "execution_count": 19,
   "id": "piano-carol",
   "metadata": {},
   "outputs": [],
   "source": [
    "import pyspark.sql.types as typ"
   ]
  },
  {
   "cell_type": "code",
   "execution_count": 20,
   "id": "competent-boulder",
   "metadata": {},
   "outputs": [
    {
     "data": {
      "text/plain": [
       "MSSubClass         int64\n",
       "LotFrontage      float64\n",
       "LotArea            int64\n",
       "Neighborhood       int64\n",
       "OverallQual        int64\n",
       "OverallCond        int64\n",
       "MasVnrArea       float64\n",
       "BsmtFinSF1       float64\n",
       "BsmtFinSF2       float64\n",
       "BsmtUnfSF        float64\n",
       "LowQualFinSF       int64\n",
       "BsmtFullBath     float64\n",
       "BsmtHalfBath     float64\n",
       "BedroomAbvGr       int64\n",
       "KitchenAbvGr       int64\n",
       "TotRmsAbvGrd       int64\n",
       "Fireplaces         int64\n",
       "GarageYrBlt      float64\n",
       "GarageCars       float64\n",
       "WoodDeckSF         int64\n",
       "OpenPorchSF        int64\n",
       "EnclosedPorch      int64\n",
       "3SsnPorch          int64\n",
       "ScreenPorch        int64\n",
       "PoolArea           int64\n",
       "MiscVal            int64\n",
       "MoSold             int64\n",
       "YrSold             int64\n",
       "TotalArea        float64\n",
       "Bathrooms        float64\n",
       "YearAverage      float64\n",
       "PrecioVenta      float64\n",
       "dtype: object"
      ]
     },
     "execution_count": 20,
     "metadata": {},
     "output_type": "execute_result"
    }
   ],
   "source": [
    "vars_train.dtypes"
   ]
  },
  {
   "cell_type": "code",
   "execution_count": 21,
   "id": "electrical-acrylic",
   "metadata": {},
   "outputs": [
    {
     "data": {
      "text/html": [
       "<div>\n",
       "<style scoped>\n",
       "    .dataframe tbody tr th:only-of-type {\n",
       "        vertical-align: middle;\n",
       "    }\n",
       "\n",
       "    .dataframe tbody tr th {\n",
       "        vertical-align: top;\n",
       "    }\n",
       "\n",
       "    .dataframe thead th {\n",
       "        text-align: right;\n",
       "    }\n",
       "</style>\n",
       "<table border=\"1\" class=\"dataframe\">\n",
       "  <thead>\n",
       "    <tr style=\"text-align: right;\">\n",
       "      <th></th>\n",
       "      <th>MSSubClass</th>\n",
       "      <th>LotFrontage</th>\n",
       "      <th>LotArea</th>\n",
       "      <th>Neighborhood</th>\n",
       "      <th>OverallQual</th>\n",
       "      <th>OverallCond</th>\n",
       "      <th>MasVnrArea</th>\n",
       "      <th>BsmtFinSF1</th>\n",
       "      <th>BsmtFinSF2</th>\n",
       "      <th>BsmtUnfSF</th>\n",
       "      <th>...</th>\n",
       "      <th>3SsnPorch</th>\n",
       "      <th>ScreenPorch</th>\n",
       "      <th>PoolArea</th>\n",
       "      <th>MiscVal</th>\n",
       "      <th>MoSold</th>\n",
       "      <th>YrSold</th>\n",
       "      <th>TotalArea</th>\n",
       "      <th>Bathrooms</th>\n",
       "      <th>YearAverage</th>\n",
       "      <th>PrecioVenta</th>\n",
       "    </tr>\n",
       "  </thead>\n",
       "  <tbody>\n",
       "    <tr>\n",
       "      <th>0</th>\n",
       "      <td>60</td>\n",
       "      <td>65.0</td>\n",
       "      <td>8450</td>\n",
       "      <td>17</td>\n",
       "      <td>7</td>\n",
       "      <td>5</td>\n",
       "      <td>196.0</td>\n",
       "      <td>706.0</td>\n",
       "      <td>0.0</td>\n",
       "      <td>150.0</td>\n",
       "      <td>...</td>\n",
       "      <td>0</td>\n",
       "      <td>0</td>\n",
       "      <td>0</td>\n",
       "      <td>0</td>\n",
       "      <td>2</td>\n",
       "      <td>2008</td>\n",
       "      <td>4824.0</td>\n",
       "      <td>2.5</td>\n",
       "      <td>2003.0</td>\n",
       "      <td>208500.0</td>\n",
       "    </tr>\n",
       "    <tr>\n",
       "      <th>1</th>\n",
       "      <td>20</td>\n",
       "      <td>80.0</td>\n",
       "      <td>9600</td>\n",
       "      <td>21</td>\n",
       "      <td>6</td>\n",
       "      <td>8</td>\n",
       "      <td>0.0</td>\n",
       "      <td>978.0</td>\n",
       "      <td>0.0</td>\n",
       "      <td>284.0</td>\n",
       "      <td>...</td>\n",
       "      <td>0</td>\n",
       "      <td>0</td>\n",
       "      <td>0</td>\n",
       "      <td>0</td>\n",
       "      <td>5</td>\n",
       "      <td>2007</td>\n",
       "      <td>4246.0</td>\n",
       "      <td>2.0</td>\n",
       "      <td>1976.0</td>\n",
       "      <td>181500.0</td>\n",
       "    </tr>\n",
       "    <tr>\n",
       "      <th>2</th>\n",
       "      <td>60</td>\n",
       "      <td>68.0</td>\n",
       "      <td>11250</td>\n",
       "      <td>17</td>\n",
       "      <td>7</td>\n",
       "      <td>5</td>\n",
       "      <td>162.0</td>\n",
       "      <td>486.0</td>\n",
       "      <td>0.0</td>\n",
       "      <td>434.0</td>\n",
       "      <td>...</td>\n",
       "      <td>0</td>\n",
       "      <td>0</td>\n",
       "      <td>0</td>\n",
       "      <td>0</td>\n",
       "      <td>9</td>\n",
       "      <td>2008</td>\n",
       "      <td>5100.0</td>\n",
       "      <td>2.5</td>\n",
       "      <td>2001.5</td>\n",
       "      <td>223500.0</td>\n",
       "    </tr>\n",
       "    <tr>\n",
       "      <th>3</th>\n",
       "      <td>70</td>\n",
       "      <td>60.0</td>\n",
       "      <td>9550</td>\n",
       "      <td>19</td>\n",
       "      <td>7</td>\n",
       "      <td>5</td>\n",
       "      <td>0.0</td>\n",
       "      <td>216.0</td>\n",
       "      <td>0.0</td>\n",
       "      <td>540.0</td>\n",
       "      <td>...</td>\n",
       "      <td>0</td>\n",
       "      <td>0</td>\n",
       "      <td>0</td>\n",
       "      <td>0</td>\n",
       "      <td>2</td>\n",
       "      <td>2006</td>\n",
       "      <td>4832.0</td>\n",
       "      <td>1.0</td>\n",
       "      <td>1942.5</td>\n",
       "      <td>140000.0</td>\n",
       "    </tr>\n",
       "    <tr>\n",
       "      <th>4</th>\n",
       "      <td>60</td>\n",
       "      <td>84.0</td>\n",
       "      <td>14260</td>\n",
       "      <td>25</td>\n",
       "      <td>8</td>\n",
       "      <td>5</td>\n",
       "      <td>350.0</td>\n",
       "      <td>655.0</td>\n",
       "      <td>0.0</td>\n",
       "      <td>490.0</td>\n",
       "      <td>...</td>\n",
       "      <td>0</td>\n",
       "      <td>0</td>\n",
       "      <td>0</td>\n",
       "      <td>0</td>\n",
       "      <td>12</td>\n",
       "      <td>2008</td>\n",
       "      <td>6377.0</td>\n",
       "      <td>2.5</td>\n",
       "      <td>2000.0</td>\n",
       "      <td>250000.0</td>\n",
       "    </tr>\n",
       "  </tbody>\n",
       "</table>\n",
       "<p>5 rows × 32 columns</p>\n",
       "</div>"
      ],
      "text/plain": [
       "   MSSubClass  LotFrontage  LotArea  Neighborhood  OverallQual  OverallCond  \\\n",
       "0          60         65.0     8450            17            7            5   \n",
       "1          20         80.0     9600            21            6            8   \n",
       "2          60         68.0    11250            17            7            5   \n",
       "3          70         60.0     9550            19            7            5   \n",
       "4          60         84.0    14260            25            8            5   \n",
       "\n",
       "   MasVnrArea  BsmtFinSF1  BsmtFinSF2  BsmtUnfSF  ...  3SsnPorch  ScreenPorch  \\\n",
       "0       196.0       706.0         0.0      150.0  ...          0            0   \n",
       "1         0.0       978.0         0.0      284.0  ...          0            0   \n",
       "2       162.0       486.0         0.0      434.0  ...          0            0   \n",
       "3         0.0       216.0         0.0      540.0  ...          0            0   \n",
       "4       350.0       655.0         0.0      490.0  ...          0            0   \n",
       "\n",
       "   PoolArea  MiscVal  MoSold  YrSold  TotalArea  Bathrooms  YearAverage  \\\n",
       "0         0        0       2    2008     4824.0        2.5       2003.0   \n",
       "1         0        0       5    2007     4246.0        2.0       1976.0   \n",
       "2         0        0       9    2008     5100.0        2.5       2001.5   \n",
       "3         0        0       2    2006     4832.0        1.0       1942.5   \n",
       "4         0        0      12    2008     6377.0        2.5       2000.0   \n",
       "\n",
       "   PrecioVenta  \n",
       "0     208500.0  \n",
       "1     181500.0  \n",
       "2     223500.0  \n",
       "3     140000.0  \n",
       "4     250000.0  \n",
       "\n",
       "[5 rows x 32 columns]"
      ]
     },
     "execution_count": 21,
     "metadata": {},
     "output_type": "execute_result"
    }
   ],
   "source": [
    "vars_train.head(5)"
   ]
  },
  {
   "cell_type": "markdown",
   "id": "beautiful-reception",
   "metadata": {},
   "source": [
    "A continuación creamos un **label personalizado** con los tipos asignados manualmente y con los campos de tipo object excluidos salvo la variable barrio la cual ha sido discretizada."
   ]
  },
  {
   "cell_type": "code",
   "execution_count": 22,
   "id": "alpha-strengthening",
   "metadata": {},
   "outputs": [],
   "source": [
    "labels = [\n",
    "    ('TipoDeVienda', typ.IntegerType()),\n",
    "    ('LongitudDeLaCalle', typ.FloatType()),\n",
    "    ('AreaDelTerreno', typ.IntegerType()),\n",
    "    ('Barrio', typ.IntegerType()),\n",
    "    ('CalidadDeLaVivienda', typ.IntegerType()),\n",
    "    \n",
    "    ('CondicionesDeLaVivienda', typ.IntegerType()),\n",
    "    ('PiesCuadradosDeFachada', typ.FloatType()),\n",
    "    ('PiesCuadradosDeSotanoTerminados', typ.FloatType()),\n",
    "    ('PiesCuadradosDeSotano2Terminados', typ.FloatType()),\n",
    "    ('PiesCuadradosDeSotanoNoTerminados', typ.FloatType()),\n",
    "    \n",
    "    ('PiesCuadradosDeBajaCalidad', typ.IntegerType()),\n",
    "    ('BaniosEnterosEnSotano', typ.FloatType()),\n",
    "    ('BaniosPequeniosEnSotano', typ.FloatType()),\n",
    "    ('DormitoriosSobreSuelo', typ.IntegerType()),\n",
    "    ('CocinasSobresSuelo', typ.IntegerType()),\n",
    "    \n",
    "    ('habitacionesSobreSueloNoBanios', typ.IntegerType()),\n",
    "    ('Chimeneas', typ.IntegerType()),\n",
    "    ('AnioDeConstruccionDelGaraje', typ.FloatType()),\n",
    "    ('CochesDelGaraje', typ.FloatType()),\n",
    "    ('PiesCuadradosDeTerrazaDeMaderaSobreSuelo', typ.IntegerType()),\n",
    "    \n",
    "    ('PiesCuadradosDePorcheAbierto', typ.IntegerType()),\n",
    "    ('PiesCuadradosDePorcheCerrado', typ.IntegerType()),\n",
    "    ('PorcheThreeSeasson', typ.IntegerType()),\n",
    "    ('PorcheAcristalado', typ.IntegerType()),\n",
    "    ('AreaDePiscina', typ.IntegerType()),\n",
    "    \n",
    "    ('PrecioDeLosMiscelaneos', typ.IntegerType()),\n",
    "    ('MesDeVenta', typ.IntegerType()),\n",
    "    ('AnioDeVenta', typ.IntegerType()),\n",
    "    ('AreaHabitableTotal', typ.FloatType()),\n",
    "    ('Banios', typ.FloatType()),\n",
    "    \n",
    "    ('EdadMediaCasa', typ.FloatType()),\n",
    "    ('PrecioDeLaVivenda', typ.FloatType())\n",
    "]\n",
    "\n",
    "\n",
    "schema = typ.StructType([\n",
    "    typ.StructField(e[0], e[1], False) for e in labels\n",
    "])"
   ]
  },
  {
   "cell_type": "markdown",
   "id": "built-constant",
   "metadata": {},
   "source": [
    "### 2.2 SparkSession"
   ]
  },
  {
   "cell_type": "markdown",
   "id": "tired-popularity",
   "metadata": {},
   "source": [
    "Inicializamos la sesión en spark, este es el punto de entrada a todas las funciones de Spark"
   ]
  },
  {
   "cell_type": "code",
   "execution_count": 23,
   "id": "declared-virus",
   "metadata": {},
   "outputs": [
    {
     "data": {
      "text/html": [
       "\n",
       "        <div>\n",
       "            <p><b>SparkContext</b></p>\n",
       "\n",
       "            <p><a href=\"http://MSI:4040\">Spark UI</a></p>\n",
       "\n",
       "            <dl>\n",
       "              <dt>Version</dt>\n",
       "                <dd><code>v2.3.3</code></dd>\n",
       "              <dt>Master</dt>\n",
       "                <dd><code>local[*]</code></dd>\n",
       "              <dt>AppName</dt>\n",
       "                <dd><code>pyspark-shell</code></dd>\n",
       "            </dl>\n",
       "        </div>\n",
       "        "
      ],
      "text/plain": [
       "<SparkContext master=local[*] appName=pyspark-shell>"
      ]
     },
     "execution_count": 23,
     "metadata": {},
     "output_type": "execute_result"
    }
   ],
   "source": [
    "import findspark\n",
    "findspark.init()\n",
    "\n",
    "from pyspark.sql import *\n",
    "from pyspark import SparkContext\n",
    "\n",
    "spark=SparkSession.builder.getOrCreate()\n",
    "sc=spark.sparkContext\n",
    "sc"
   ]
  },
  {
   "cell_type": "markdown",
   "id": "rental-algorithm",
   "metadata": {},
   "source": [
    "**Spark SQL** es un módulo de Apache Spark para el procesamiento de datos estructurados. Uno de sus usos es ejecutar consultas SQL, aunque también se puede utilizar para leer datos de una instalación Hive existente, devueltos en un **DataFrame Spark**.\n",
    "\n",
    "A diferencia de **Spark API RDD** (desde la versión 1.0 en Spark), sus interfaces proporcionan información adicional (puesto que reciben información sobre la estructura de los datos), lo cual aplica a más funcionalidades.\n",
    "\n",
    "La mayor abstracción en la API de Spark SQL es el DataFrame, el cual conserva caracerísticas de los RDD: inmutabilidad, resiliencia y computación distribuida."
   ]
  },
  {
   "cell_type": "code",
   "execution_count": 24,
   "id": "later-payment",
   "metadata": {},
   "outputs": [],
   "source": [
    "from pyspark.sql import SQLContext\n",
    "sqlContext = SQLContext(sc) \n",
    "#SQLContext permite conectar el motor con diferentes fuentes de datos. Se utiliza para iniciar las funcionalidades de Spark SQL\n",
    "\n",
    "spark.createDataFrame(vars_train)\n",
    "vars_train = sqlContext.createDataFrame(vars_train,schema)"
   ]
  },
  {
   "cell_type": "code",
   "execution_count": 25,
   "id": "annual-microwave",
   "metadata": {},
   "outputs": [
    {
     "name": "stdout",
     "output_type": "stream",
     "text": [
      "+------------+-----------------+--------------+------+-------------------+-----------------------+----------------------+-------------------------------+--------------------------------+---------------------------------+--------------------------+---------------------+-----------------------+---------------------+------------------+------------------------------+---------+---------------------------+---------------+----------------------------------------+----------------------------+----------------------------+------------------+-----------------+-------------+----------------------+----------+-----------+------------------+------+-------------+-----------------+\n",
      "|TipoDeVienda|LongitudDeLaCalle|AreaDelTerreno|Barrio|CalidadDeLaVivienda|CondicionesDeLaVivienda|PiesCuadradosDeFachada|PiesCuadradosDeSotanoTerminados|PiesCuadradosDeSotano2Terminados|PiesCuadradosDeSotanoNoTerminados|PiesCuadradosDeBajaCalidad|BaniosEnterosEnSotano|BaniosPequeniosEnSotano|DormitoriosSobreSuelo|CocinasSobresSuelo|habitacionesSobreSueloNoBanios|Chimeneas|AnioDeConstruccionDelGaraje|CochesDelGaraje|PiesCuadradosDeTerrazaDeMaderaSobreSuelo|PiesCuadradosDePorcheAbierto|PiesCuadradosDePorcheCerrado|PorcheThreeSeasson|PorcheAcristalado|AreaDePiscina|PrecioDeLosMiscelaneos|MesDeVenta|AnioDeVenta|AreaHabitableTotal|Banios|EdadMediaCasa|PrecioDeLaVivenda|\n",
      "+------------+-----------------+--------------+------+-------------------+-----------------------+----------------------+-------------------------------+--------------------------------+---------------------------------+--------------------------+---------------------+-----------------------+---------------------+------------------+------------------------------+---------+---------------------------+---------------+----------------------------------------+----------------------------+----------------------------+------------------+-----------------+-------------+----------------------+----------+-----------+------------------+------+-------------+-----------------+\n",
      "|          60|             65.0|          8450|    17|                  7|                      5|                 196.0|                          706.0|                             0.0|                            150.0|                         0|                  1.0|                    0.0|                    3|                 1|                             8|        0|                     2003.0|            2.0|                                       0|                          61|                           0|                 0|                0|            0|                     0|         2|       2008|            4824.0|   2.5|       2003.0|         208500.0|\n",
      "+------------+-----------------+--------------+------+-------------------+-----------------------+----------------------+-------------------------------+--------------------------------+---------------------------------+--------------------------+---------------------+-----------------------+---------------------+------------------+------------------------------+---------+---------------------------+---------------+----------------------------------------+----------------------------+----------------------------+------------------+-----------------+-------------+----------------------+----------+-----------+------------------+------+-------------+-----------------+\n",
      "only showing top 1 row\n",
      "\n"
     ]
    }
   ],
   "source": [
    "vars_train.show(1)"
   ]
  },
  {
   "cell_type": "markdown",
   "id": "atomic-import",
   "metadata": {},
   "source": [
    "## 3. Estimador y modelos sin mejoras"
   ]
  },
  {
   "cell_type": "code",
   "execution_count": 26,
   "id": "scenic-fossil",
   "metadata": {},
   "outputs": [],
   "source": [
    "# separamos el dataset en train y test (70 y 30 respectivamente)\n",
    "(trainingData, testData) = vars_train.randomSplit([0.7, 0.3], seed=666)"
   ]
  },
  {
   "cell_type": "markdown",
   "id": "unknown-angle",
   "metadata": {},
   "source": [
    "### 3.1 Vector assembler"
   ]
  },
  {
   "cell_type": "markdown",
   "id": "attached-librarian",
   "metadata": {},
   "source": [
    "VectorAssembler es un transformador que convierte datos de varias columnas en una **columna vectorial de una sola columna**."
   ]
  },
  {
   "cell_type": "markdown",
   "id": "sustained-desire",
   "metadata": {},
   "source": [
    "Buscamos todas las columnas del dataset que no sean la etiqueta (precio de vivienda).\n",
    "Lo realizamos mediante un select, con esto hacemos más preciso al modelo a la hora de añadir nuevas columnas"
   ]
  },
  {
   "cell_type": "code",
   "execution_count": 27,
   "id": "recovered-glucose",
   "metadata": {},
   "outputs": [],
   "source": [
    "import pyspark.ml.feature as ft\n",
    "featureCreator = ft.VectorAssembler(\n",
    "    inputCols=[col for col in vars_train.select(\"*\").columns if col!='PrecioDeLaVivenda'], #todas menos el target \n",
    "    outputCol='features'\n",
    ")"
   ]
  },
  {
   "cell_type": "markdown",
   "id": "suburban-ministry",
   "metadata": {},
   "source": [
    "### 3.2 Modelos de regresión "
   ]
  },
  {
   "cell_type": "markdown",
   "id": "alone-elder",
   "metadata": {},
   "source": [
    "Realizamos el modelo con un **Random Forest** y un **Gradient Boosting** para ver cual devuelve un menor **RMSE** (Raíz del MSE), y por lo tanto un mejor rendimiento de regresión"
   ]
  },
  {
   "cell_type": "markdown",
   "id": "consecutive-pierce",
   "metadata": {},
   "source": [
    "* ### 3.2.1 Random Forest sin mejoras"
   ]
  },
  {
   "cell_type": "markdown",
   "id": "electrical-spirit",
   "metadata": {},
   "source": [
    "El Random Forest es un modelo formado por muchos **árboles de decisión**. De manera que el resultado devuelto es obtenido tras **promediar las predicciones** de los árboles.\n",
    "\n",
    "Dichos árboles utilizan **muestreos aleatorios** del train durante el entrenamiento y están formados por **subconjuntos** aleatorios de características consideradas al dividir nodos. La clave es la **baja correlación entre los modelos** (árboles).\n",
    "\n",
    "Los motivos por los que hemos seleccionado este modelo como el primero a implementar son los siguientes:\n",
    "* **Requiere muy pocas suposiciones**, por lo que la preparación de los datos es mucho más leve en comparación con otros algoritmos; por ejemplo: no necesita estandarización.\n",
    "* **Poco afectados por valores atípicos** al ponderar con medias o modas en la resolución.\n",
    "* Tiene un método efectivo para estimar datos faltantes; además predice **bien para grandes cantidades de datos** al utilizar varios árboles y reducir el riesgo de overfiting.\n",
    "<img src=\"imagenes\\randomforest.png\" width=\"700\" height=\"1000\" align=\"center \">"
   ]
  },
  {
   "cell_type": "code",
   "execution_count": 28,
   "id": "exposed-director",
   "metadata": {},
   "outputs": [],
   "source": [
    "from pyspark.ml.regression import RandomForestRegressor\n",
    "from pyspark.ml import Pipeline"
   ]
  },
  {
   "cell_type": "code",
   "execution_count": 29,
   "id": "canadian-shirt",
   "metadata": {},
   "outputs": [],
   "source": [
    "# modelo de random forest en este caso solo hace falta especificar el label\n",
    "rf = RandomForestRegressor(labelCol='PrecioDeLaVivenda')\n",
    "#el pipeline es un camino que indica los pasos que tiene que hacer el modelo en este caso\n",
    "#crea una columna vector que agrupa el resto de columnas y efectúa el random forest\n",
    "pipeline = Pipeline(stages=[featureCreator,rf])"
   ]
  },
  {
   "cell_type": "code",
   "execution_count": 30,
   "id": "stock-manchester",
   "metadata": {},
   "outputs": [],
   "source": [
    "#guarda el modelo entrenado con los datos de training en pModel\n",
    "pModel = pipeline.fit(trainingData)"
   ]
  },
  {
   "cell_type": "code",
   "execution_count": 31,
   "id": "electric-authority",
   "metadata": {},
   "outputs": [],
   "source": [
    "#guarda el test en pTest\n",
    "pTest = pModel.transform(testData)"
   ]
  },
  {
   "cell_type": "code",
   "execution_count": 32,
   "id": "earlier-dayton",
   "metadata": {},
   "outputs": [],
   "source": [
    "#se tiene que crear un evaluador de regresión para usarlo después\n",
    "from pyspark.ml.evaluation import RegressionEvaluator\n",
    "evaluator = RegressionEvaluator(\n",
    "    #la métrica que sale de este evaluador es la raiz cuadrada del error cuadrático medio(rsme),\n",
    "    #osea el error medio\n",
    "    labelCol=\"PrecioDeLaVivenda\", predictionCol=\"prediction\", metricName=\"rmse\")"
   ]
  },
  {
   "cell_type": "code",
   "execution_count": 33,
   "id": "cloudy-exhibition",
   "metadata": {},
   "outputs": [
    {
     "name": "stdout",
     "output_type": "stream",
     "text": [
      "Error cuadratico medio Random Forest (RMSE) = 47609.6\n"
     ]
    }
   ],
   "source": [
    "#Con este código se imprime el valor de la raiz cuadrada del error cuadrático medio\n",
    "rmse = evaluator.evaluate(pTest)\n",
    "print(\"Error cuadratico medio Random Forest (RMSE) = %g\" % rmse)"
   ]
  },
  {
   "cell_type": "markdown",
   "id": "funny-concord",
   "metadata": {},
   "source": [
    "Obteniendo un **RMSE de menor de 50.000 dólares**, nos indica que, en promedio, nuestro modelo ha obtenido resultados que difieren en esa cifra de dólares del precio real. \n",
    "\n",
    "Hay que tener en cuenta que estas medidas provienen del promedio de las realizaciones de la prueba. Esto implica que cuando predecimos resultados sesgados (precios, ingresos, etc) lo más probable es que el **error también sea sesgado**.\n",
    "Esto puede ser debido a que en la mayoría de los casos el error es muy pequeño, pero que existen ejemplos con errores extremadamente grandes. Un error demasiado sesgado puede invalidar el resultado del promedio.\n",
    "\n",
    "Por otro lado, cuanto **mayor es el precio de venta, menor significación** tienen 50.000 dólares de diferencia; y viceversa.\n"
   ]
  },
  {
   "cell_type": "markdown",
   "id": "after-vinyl",
   "metadata": {},
   "source": [
    "* ### 3.2.2 Gradient Boosting sin mejoras"
   ]
  },
  {
   "cell_type": "markdown",
   "id": "dietary-debate",
   "metadata": {},
   "source": [
    "Gradient Boosting es una familia de algoritmos basados en la **secuencia de modelos predictivos** débiles que en nuestro caso serán los árboles de decisión. La generación de dichos árboles se crea de forma que cada uno corrija los errores del anterior. Estos **\"weak lerners\"** suelen ser árboles poco profundos con no más de 3 o 4 niveles de profundidad. \n",
    "\n",
    "La razón por la que queremos comparar su resultado con el del Random Forest es debido a que, pese a tener características ventajosas muy similares que se adaptan a las del problema, iteran disminuyendo su error con **enfoques distintos**: \n",
    "El Gradient Boosting utiliza árboles débiles (alto sesgo, baja variación), por lo que el algoritmo se limita principalmente a **reducir el sesgo**. Por otro lado, los diversos árboles completamente desarrollados del RF (bajo sesgo, alta varianza); por lo que procuran reducir el error de la forma contraria: **reduciendo la varianza**.\n",
    "<img src=\"imagenes\\gbm.png\" width=\"700\" height=\"1000\" align=\"center \">"
   ]
  },
  {
   "cell_type": "code",
   "execution_count": 34,
   "id": "documentary-stereo",
   "metadata": {},
   "outputs": [],
   "source": [
    "from pyspark.ml.regression import GBTRegressor\n",
    "#lo mismo pero con otro tipo de modelo\n",
    "gbt = GBTRegressor(featuresCol=\"features\",labelCol='PrecioDeLaVivenda')#, maxIter=10)\n",
    "pipeline = Pipeline(stages=[featureCreator,gbt])"
   ]
  },
  {
   "cell_type": "code",
   "execution_count": 35,
   "id": "random-paste",
   "metadata": {},
   "outputs": [],
   "source": [
    "gbtModel = pipeline.fit(trainingData)"
   ]
  },
  {
   "cell_type": "code",
   "execution_count": 36,
   "id": "empirical-thread",
   "metadata": {},
   "outputs": [],
   "source": [
    "gbtTest = gbtModel.transform(testData)"
   ]
  },
  {
   "cell_type": "code",
   "execution_count": 37,
   "id": "eight-wholesale",
   "metadata": {},
   "outputs": [
    {
     "name": "stdout",
     "output_type": "stream",
     "text": [
      "Error cuadratico medio gradient boosting (RMSE) = 50152.1\n"
     ]
    }
   ],
   "source": [
    "rmse = evaluator.evaluate(gbtTest)\n",
    "print(\"Error cuadratico medio gradient boosting (RMSE) = %g\" % rmse)"
   ]
  },
  {
   "cell_type": "markdown",
   "id": "filled-witch",
   "metadata": {},
   "source": [
    "**Random Forest** devuelve resultados ligeramente mejores en el RMSE, por lo que será el **modelo elegido para la optimización**. Además, es mucho más fácil de sintonizar que GBM. Por lo general, hay dos hiperparámetros en RF: número de árboles y número de campos que se utilizarán para entrenar cada nodo. Aunque, por otro lado, está demostrado que GBM suele funcionar mejor que RF si los parámetros se ajustan con cuidado.\n",
    "\n",
    "La realidad es que los resultados son destacablemente similares precisamente debido a que ambos modelos trabajan sobre árboles de decisión, diferenciandose en el orden y la forma en el que estos se combinan.\n"
   ]
  },
  {
   "cell_type": "markdown",
   "id": "executive-investigator",
   "metadata": {},
   "source": [
    "## 4. Ajuste del modelo"
   ]
  },
  {
   "cell_type": "markdown",
   "id": "coupled-native",
   "metadata": {},
   "source": [
    "### 4.1 Discretización"
   ]
  },
  {
   "cell_type": "markdown",
   "id": "administrative-singer",
   "metadata": {},
   "source": [
    "Discretizar una variable significa **convertir un grupo de valores continuos en una segmentación discreta** (mediante intervalos). Precisamente el RF puede beneficiarse de esta conversión puesto que utiliza la minimización de la **entropía de la información heurística** para seleccionar puntos de corte.\n",
    "\n",
    "\n",
    "Hemos seleccionado la variable \"PiesCuadradosDeFachada\" puesto que es una de las más correlacionadas con el precio de venta de la vivienda.\n",
    "<img src=\"imagenes\\discretizacion.png\" width=\"700\" height=\"1000\" align=\"center \">"
   ]
  },
  {
   "cell_type": "code",
   "execution_count": 38,
   "id": "sorted-simon",
   "metadata": {},
   "outputs": [],
   "source": [
    "import pyspark.ml.feature as ft\n",
    "\n",
    "discretizer = ft.QuantileDiscretizer(\n",
    "    numBuckets=20, \n",
    "    inputCol='PiesCuadradosDeFachada', \n",
    "    outputCol='PiesCuadradosDeFachada_discretized')"
   ]
  },
  {
   "cell_type": "markdown",
   "id": "mechanical-hunter",
   "metadata": {},
   "source": [
    "### 4.2 Normalización"
   ]
  },
  {
   "cell_type": "markdown",
   "id": "coordinated-council",
   "metadata": {},
   "source": [
    "Normalizar significa **tipificar las escalas de las variables en una sola escala común**, es decir: extender o comprimir valores de la variable en un rango definido; con la intención de evitar así relaciones y dependencias no deseadas entre datos. Suele ser utilizada previamente a una realización de promedios\n",
    "\n",
    "\n",
    "Random Forest presenta un **carácter invariante** a transformaciones de características individuales debido a que los campos **no son comparados en magnitud con otros**, sino en los rangos de una característica segmentada por el modelo. No obstante procederemos a la normalizacion del modelo siguiendo las instrucciones generales del proyecto.\n",
    "<img src=\"imagenes\\ejemplo normalizacion.png\" width=\"500\" height=\"7000\" align=\"center \">"
   ]
  },
  {
   "cell_type": "markdown",
   "id": "palestinian-pixel",
   "metadata": {},
   "source": [
    "#### 4.2.1 Normalización 1"
   ]
  },
  {
   "cell_type": "markdown",
   "id": "southern-taxation",
   "metadata": {},
   "source": [
    "En primer lugar vamos a normalizar mediante el **Standard Scaler**, dicho algoritmo elimina la media y escala la varianza de la unidad utilizando estadísticos de la muestra de entrenamiento. La \"unidad estándar\" se calcula con la desviación estándar de la muestra corregida."
   ]
  },
  {
   "cell_type": "code",
   "execution_count": 39,
   "id": "early-category",
   "metadata": {},
   "outputs": [],
   "source": [
    "#definimos la función ya parametrizada \n",
    "normalizer_features = ft.StandardScaler(\n",
    "    inputCol='features', \n",
    "    outputCol='normalized_features', \n",
    "    withMean=True, #Obtiene el valor de withMean o su valor predeterminado.\n",
    "    withStd=True  #Obtiene el valor de withStd o su valor predeterminado.\n",
    ")"
   ]
  },
  {
   "cell_type": "code",
   "execution_count": 40,
   "id": "amazing-borough",
   "metadata": {},
   "outputs": [],
   "source": [
    "#especificamos que las features son las normalizadas\n",
    "rf = RandomForestRegressor(featuresCol='normalized_features',labelCol='PrecioDeLaVivenda')\n",
    "# también adaptamos el vector asembler para que no pase por el input los piescuadradosdefachada porque ha sido discretizada\n",
    "featureCreator_no_dis = ft.VectorAssembler(\n",
    "    inputCols=[col for col in vars_train.select(\"*\").columns if col!='PrecioDeLaVivenda' and col!='PiesCuadradosDeFachada]'], #todas menos el target \n",
    "    outputCol='features'\n",
    ")"
   ]
  },
  {
   "cell_type": "code",
   "execution_count": 41,
   "id": "persistent-vitamin",
   "metadata": {},
   "outputs": [],
   "source": [
    "pipeline = Pipeline(stages=[discretizer,featureCreator_no_dis,normalizer_features,rf])"
   ]
  },
  {
   "cell_type": "code",
   "execution_count": 42,
   "id": "verified-infrastructure",
   "metadata": {},
   "outputs": [],
   "source": [
    "model = pipeline.fit(trainingData)"
   ]
  },
  {
   "cell_type": "code",
   "execution_count": 43,
   "id": "fossil-longer",
   "metadata": {},
   "outputs": [],
   "source": [
    "test = model.transform(testData)"
   ]
  },
  {
   "cell_type": "code",
   "execution_count": 44,
   "id": "bigger-blade",
   "metadata": {},
   "outputs": [
    {
     "name": "stdout",
     "output_type": "stream",
     "text": [
      "Error cuadratico medio (RMSE) = 47609.6\n"
     ]
    }
   ],
   "source": [
    "rmse = evaluator.evaluate(test)\n",
    "print(\"Error cuadratico medio (RMSE) = %g\" % rmse)"
   ]
  },
  {
   "cell_type": "markdown",
   "id": "prescription-recorder",
   "metadata": {},
   "source": [
    "El RMSE no se reduce con este tipo de normalización en Random Forest debido a que altera la escala de las variables, no la segmentación de rangos; por lo que no ofrece ninguna mejoría"
   ]
  },
  {
   "cell_type": "markdown",
   "id": "intellectual-withdrawal",
   "metadata": {},
   "source": [
    "#### 4.2.2 Normalización 2"
   ]
  },
  {
   "cell_type": "markdown",
   "id": "hearing-nature",
   "metadata": {},
   "source": [
    "**MinMaxScaler** modifica la escala de cada variable a un rango común (mínimo, máximo) mediante estadísticos muestrales. Es común la práctica de normalizar en un rango (0,1), que son los límites por defecto.\n",
    "\n",
    "A priori parece que, a diferencia de StandardScaler, **sí podría variar el RMSE**; debido a que podríamos alterar las particiones de los árboles de decisión. Aunque no esperamos grandes resultados."
   ]
  },
  {
   "cell_type": "code",
   "execution_count": 45,
   "id": "integral-template",
   "metadata": {},
   "outputs": [],
   "source": [
    "normalizer_features_MMS=ft.MinMaxScaler(\n",
    "    inputCol='features', \n",
    "    outputCol='normalized_features', \n",
    "    #withMean=True,\n",
    "    #withStd=True\n",
    ")"
   ]
  },
  {
   "cell_type": "code",
   "execution_count": 46,
   "id": "prostate-glossary",
   "metadata": {},
   "outputs": [],
   "source": [
    "pipeline = Pipeline(stages=[discretizer,featureCreator_no_dis,normalizer_features_MMS,rf])"
   ]
  },
  {
   "cell_type": "code",
   "execution_count": 47,
   "id": "renewable-spine",
   "metadata": {},
   "outputs": [],
   "source": [
    "model = pipeline.fit(trainingData)"
   ]
  },
  {
   "cell_type": "code",
   "execution_count": 48,
   "id": "color-native",
   "metadata": {},
   "outputs": [],
   "source": [
    "test = model.transform(testData)"
   ]
  },
  {
   "cell_type": "code",
   "execution_count": 49,
   "id": "republican-gravity",
   "metadata": {},
   "outputs": [
    {
     "name": "stdout",
     "output_type": "stream",
     "text": [
      "Error cuadratico medio (RMSE) = 47609.6\n"
     ]
    }
   ],
   "source": [
    "rmse = evaluator.evaluate(test)\n",
    "print(\"Error cuadratico medio (RMSE) = %g\" % rmse)"
   ]
  },
  {
   "cell_type": "markdown",
   "id": "floppy-termination",
   "metadata": {},
   "source": [
    "En este caso parece que tampoco hemos logrado reducir el error, aunque en otras iteraciones sí que nos redujo despreciablemente el RMSE."
   ]
  },
  {
   "cell_type": "markdown",
   "id": "nuclear-villa",
   "metadata": {},
   "source": [
    "### 4.3 Hypertuning"
   ]
  },
  {
   "cell_type": "markdown",
   "id": "immune-terrorism",
   "metadata": {},
   "source": [
    "A diferencia de los parámetros del modelo, los cuales se aprenden durante el entrenamiento, los hiperparámetros deben establecerse **antes del entrenamiento**. En el caso del Random Forest, los hiperparámetros son el **número de árboles de decisión** y el **número de características** que evaluará cada árbol. \n",
    "\n",
    "Cada paradigma funciona mejor con unos u otros hiperparámetros; la tarea del científico de datos es encontrar la combinación que mejor aproxime las soluciones reales del problema.\n",
    "<img src=\"imagenes\\hipertunning.png\" width=\"500\" height=\"500\" align=\"center \">"
   ]
  },
  {
   "cell_type": "code",
   "execution_count": 50,
   "id": "lonely-integration",
   "metadata": {},
   "outputs": [],
   "source": [
    "import pyspark.ml.tuning as tune"
   ]
  },
  {
   "cell_type": "markdown",
   "id": "stopped-realtor",
   "metadata": {},
   "source": [
    "#### 4.3.1 Pipeline"
   ]
  },
  {
   "cell_type": "markdown",
   "id": "dedicated-cruise",
   "metadata": {},
   "source": [
    "Creamos varios modelos combinando hiperparámetros a través de pipelines. En total se crearán 9 modelos 3*3.\n",
    "\n",
    "La finalidad es encontrar la **mejor combinación de los nueve modelos probados**."
   ]
  },
  {
   "cell_type": "code",
   "execution_count": 51,
   "id": "governmental-valuation",
   "metadata": {},
   "outputs": [],
   "source": [
    "pipeline = Pipeline(stages=[discretizer,featureCreator,normalizer_features,rf])"
   ]
  },
  {
   "cell_type": "code",
   "execution_count": 52,
   "id": "fossil-conditions",
   "metadata": {},
   "outputs": [],
   "source": [
    "grid = tune.ParamGridBuilder().addGrid(rf.numTrees, [20,25,30]).addGrid(rf.maxDepth, [5,6,9]).build()"
   ]
  },
  {
   "cell_type": "markdown",
   "id": "hungarian-wellington",
   "metadata": {},
   "source": [
    "Hay que poner un número reducido de valores porque muchos modelos sobrecargarían el ordenador; se suelen usar 3x3 o 10x10"
   ]
  },
  {
   "cell_type": "markdown",
   "id": "lucky-layout",
   "metadata": {},
   "source": [
    "#### 4.3.2 Validación Cruzada"
   ]
  },
  {
   "cell_type": "markdown",
   "id": "answering-cincinnati",
   "metadata": {},
   "source": [
    "**CrossValidator** divide el conjunto de datos en **\"pliegues\"** (*folds*) o conjuntos de datos separados: **validación** y **entrenamiento**. Habiendo que establecer mediante parámetro el número de pliegues que se deseen realizar. Su finalidad es la de evaluar la **solidez del modelo** y la **independiencia de la partición** entre datos de train y test, mediante el entrenamiento de varios subconjuntos de los datos de entrada y su evaluación con otro subconjunto complementario de los datos que fue ignorado durante el entrenamiento.\n",
    "\n",
    "\n",
    "Por ejemplo: numFolds=3; generaríamos 3 pares datasets (train 70% y test 30%). Para evaluar calcularíamos el RMSE de los 3 pliegues, ajustando los 3 pares de conjuntos diferentes\n",
    "\n",
    "\n",
    "Esta técnica tiene un alto **coste computacional**; sin embargo, también es un método estadísticamente más sólido que el ajuste manual heurístico a la hora de seleccionar los hiperparámetros.\n",
    "<img src=\"imagenes\\validación cruzada.jpg\" width=\"700\" height=\"500\" align=\"center \">"
   ]
  },
  {
   "cell_type": "code",
   "execution_count": 53,
   "id": "adjustable-saver",
   "metadata": {},
   "outputs": [],
   "source": [
    "cv = tune.CrossValidator(estimator=pipeline,estimatorParamMaps=grid,evaluator=evaluator,numFolds=3)"
   ]
  },
  {
   "cell_type": "code",
   "execution_count": 54,
   "id": "geological-birth",
   "metadata": {},
   "outputs": [],
   "source": [
    "cvModel = cv.fit(trainingData)"
   ]
  },
  {
   "cell_type": "code",
   "execution_count": 55,
   "id": "common-shoulder",
   "metadata": {},
   "outputs": [],
   "source": [
    "results = cvModel.transform(testData)"
   ]
  },
  {
   "cell_type": "code",
   "execution_count": 56,
   "id": "southwest-generation",
   "metadata": {},
   "outputs": [
    {
     "name": "stdout",
     "output_type": "stream",
     "text": [
      "Error cuadratico medio (RMSE) sin hypertuning en los datos test = 47609.6\n",
      "Error cuadratico medio (RMSE) con hypertuning en los datos test = 46129.1\n"
     ]
    }
   ],
   "source": [
    "#comparación de errores\n",
    "rmse = evaluator.evaluate(test)\n",
    "print(\"Error cuadratico medio (RMSE) sin hypertuning en los datos test = %g\" % rmse)\n",
    "rmse = evaluator.evaluate(results)\n",
    "print(\"Error cuadratico medio (RMSE) con hypertuning en los datos test = %g\" % rmse)"
   ]
  },
  {
   "cell_type": "markdown",
   "id": "sublime-vehicle",
   "metadata": {},
   "source": [
    "El RMSE del modelo se **reduce aproximadamente en unos 1.000 dólares**, lo cual es una mejora considerable de la predicción del modelo. \n",
    "\n",
    "Esto se debe a que se ha garantizado la independiencia de la partición entre datos de entrenamiento y prueba. Y a que se han optimizado los hiperparámetros del modelo, seleccionando los que se ajustan la predicción."
   ]
  },
  {
   "cell_type": "code",
   "execution_count": 57,
   "id": "round-consolidation",
   "metadata": {},
   "outputs": [],
   "source": [
    "bestModel = cvModel.bestModel"
   ]
  },
  {
   "cell_type": "code",
   "execution_count": 58,
   "id": "tired-rebecca",
   "metadata": {},
   "outputs": [
    {
     "name": "stdout",
     "output_type": "stream",
     "text": [
      "El mejor número de árboles es: 30\n",
      "El mejor valor de profundidad es: 5\n"
     ]
    }
   ],
   "source": [
    "#código que me imprime que hyperparámetros son los mejores para el modelo\n",
    "print('El mejor número de árboles es: {}'.format(bestModel.stages[-1]._java_obj.getNumTrees()))\n",
    "print('El mejor valor de profundidad es: {}'.format(bestModel.stages[-1]._java_obj.getMaxDepth()))"
   ]
  },
  {
   "cell_type": "markdown",
   "id": "powered-interface",
   "metadata": {},
   "source": [
    "El mejor modelo devuelto por el grid consta de los siguientes hiperparámetros:\n",
    "* Número de árboles: 30\n",
    "* Profundidad de árbol: 5"
   ]
  },
  {
   "cell_type": "markdown",
   "id": "manual-cardiff",
   "metadata": {},
   "source": [
    "#### 4.3.3 Selección de características"
   ]
  },
  {
   "cell_type": "markdown",
   "id": "brave-selection",
   "metadata": {},
   "source": [
    "La selección de características indentifica las **características más influyentes** durante el entrenamiento del modelo. Reduciendo el tamaño del espacio de funciones podemos mejorar el rendimiento del aprendizaje estadístico, además de su velocidad.\n",
    "<img src=\"imagenes\\seleccion.jpg\" width=\"400\" height=\"300\" align=\"center \">"
   ]
  },
  {
   "cell_type": "markdown",
   "id": "2d30ca32",
   "metadata": {},
   "source": [
    "#### 4.3.3.1 Selección de características sin hypertuning"
   ]
  },
  {
   "cell_type": "code",
   "execution_count": 59,
   "id": "global-disorder",
   "metadata": {},
   "outputs": [],
   "source": [
    "from pyspark.ml.feature import ChiSqSelector\n",
    "from pyspark.ml.linalg import Vectors\n",
    "from pyspark.ml import Pipeline\n",
    "\n",
    "#me selecciona que variables son las más relevantes para el modelo\n",
    "selector = ChiSqSelector(numTopFeatures=16, featuresCol=\"features\",\n",
    "                         outputCol=\"selectedFeatures\", labelCol=\"PrecioDeLaVivenda\")"
   ]
  },
  {
   "cell_type": "code",
   "execution_count": 60,
   "id": "geographic-penny",
   "metadata": {},
   "outputs": [],
   "source": [
    "#actualizo el normalizer porque ahora el input es diferente y quiero que funcione bien\n",
    "normalizer_features_selected_features = ft.StandardScaler(\n",
    "    inputCol='selectedFeatures', \n",
    "    outputCol='normalized_features', \n",
    "    withMean=True,\n",
    "    withStd=True\n",
    ")"
   ]
  },
  {
   "cell_type": "code",
   "execution_count": 61,
   "id": "organic-appointment",
   "metadata": {},
   "outputs": [],
   "source": [
    "pipeline = Pipeline(stages=[discretizer,featureCreator,selector,normalizer_features_selected_features,rf])"
   ]
  },
  {
   "cell_type": "code",
   "execution_count": 62,
   "id": "respiratory-oregon",
   "metadata": {},
   "outputs": [],
   "source": [
    "sModel = pipeline.fit(trainingData)"
   ]
  },
  {
   "cell_type": "code",
   "execution_count": 63,
   "id": "designing-variation",
   "metadata": {},
   "outputs": [],
   "source": [
    "sTest = sModel.transform(testData)"
   ]
  },
  {
   "cell_type": "code",
   "execution_count": 64,
   "id": "communist-yukon",
   "metadata": {},
   "outputs": [
    {
     "name": "stdout",
     "output_type": "stream",
     "text": [
      "Error cuadratico medio (RMSE) sin reducir variables = 47609.6\n",
      "Error cuadratico medio (RMSE) reduciendo variables = 46464.6\n"
     ]
    }
   ],
   "source": [
    "#comparativa de errores\n",
    "rmse = evaluator.evaluate(test)\n",
    "print(\"Error cuadratico medio (RMSE) sin reducir variables = %g\" % rmse)\n",
    "rmse = evaluator.evaluate(sTest)\n",
    "print(\"Error cuadratico medio (RMSE) reduciendo variables = %g\" % rmse)"
   ]
  },
  {
   "cell_type": "markdown",
   "id": "lesser-princess",
   "metadata": {},
   "source": [
    "Al utilizar solo las variables más importantes hemos quitado ruido al modelo y reducido el RMSE"
   ]
  },
  {
   "cell_type": "markdown",
   "id": "heavy-rental",
   "metadata": {},
   "source": [
    "#### 4.3.3.2 Selección de características con hypertuning"
   ]
  },
  {
   "cell_type": "markdown",
   "id": "contemporary-assignment",
   "metadata": {},
   "source": [
    "Como la selección de características y el hypertuning fueron los añadidos que más redujeron el RMSE, decidimos como punto extra juntarlos para conseguir el mejor modelo posible"
   ]
  },
  {
   "cell_type": "code",
   "execution_count": 65,
   "id": "improved-gross",
   "metadata": {},
   "outputs": [],
   "source": [
    "grid = tune.ParamGridBuilder().addGrid(rf.numTrees, [20,25,30]).addGrid(rf.maxDepth, [5,6,9]).build()"
   ]
  },
  {
   "cell_type": "code",
   "execution_count": 66,
   "id": "charitable-appraisal",
   "metadata": {},
   "outputs": [],
   "source": [
    "cv = tune.CrossValidator(estimator=pipeline,estimatorParamMaps=grid,evaluator=evaluator,numFolds=3)"
   ]
  },
  {
   "cell_type": "code",
   "execution_count": 67,
   "id": "intermediate-classroom",
   "metadata": {},
   "outputs": [],
   "source": [
    "cvModel = cv.fit(trainingData)"
   ]
  },
  {
   "cell_type": "code",
   "execution_count": 68,
   "id": "substantial-fellow",
   "metadata": {},
   "outputs": [],
   "source": [
    "results = cvModel.transform(testData)"
   ]
  },
  {
   "cell_type": "code",
   "execution_count": 69,
   "id": "czech-joining",
   "metadata": {},
   "outputs": [
    {
     "name": "stdout",
     "output_type": "stream",
     "text": [
      "Error cuadratico medio (RMSE) sin reducir variables = 47609.6\n",
      "Error cuadratico medio (RMSE) reduciendo variables y con hypertuning (mejor versión) = 45866\n"
     ]
    }
   ],
   "source": [
    "#comparativa de errores\n",
    "rmse = evaluator.evaluate(test)\n",
    "print(\"Error cuadratico medio (RMSE) sin reducir variables = %g\" % rmse)\n",
    "rmse = evaluator.evaluate(results)\n",
    "print(\"Error cuadratico medio (RMSE) reduciendo variables y con hypertuning (mejor versión) = %g\" % rmse)"
   ]
  },
  {
   "cell_type": "code",
   "execution_count": 70,
   "id": "authorized-honey",
   "metadata": {},
   "outputs": [],
   "source": [
    "bestModel = cvModel.bestModel"
   ]
  },
  {
   "cell_type": "code",
   "execution_count": 71,
   "id": "dutch-pride",
   "metadata": {},
   "outputs": [
    {
     "name": "stdout",
     "output_type": "stream",
     "text": [
      "El mejor número de árboles es: 25\n",
      "El mejor valor de profundidad es: 6\n"
     ]
    }
   ],
   "source": [
    "#código que me imprime que hyperparámetros son los mejores para el modelo\n",
    "print('El mejor número de árboles es: {}'.format(bestModel.stages[-1]._java_obj.getNumTrees()))\n",
    "print('El mejor valor de profundidad es: {}'.format(bestModel.stages[-1]._java_obj.getMaxDepth()))"
   ]
  },
  {
   "cell_type": "markdown",
   "id": "e5ecc4d4",
   "metadata": {},
   "source": [
    "El RMSE del modelo se reduce a valores cercanos a **45.000 dólares**, que es el mejor resultado que hemos obtenido mediante el ajuste del modelo\n",
    "\n",
    "Obteniendo este resultado, hemos combinado la selección de características actualizando los hiperparámetros adecuados para el problema. Es intuitivo deducir esta mejoría debido a que el número de árboles y sus complejidades no **deberían rendir igual para 16 variables que para 32** durante el entrenamiento.\n",
    "\n",
    "Los nuevos hiperparámetros de este modelo son:\n",
    "* Número de árboles: 25\n",
    "* Profundidad de árbol: 6"
   ]
  },
  {
   "cell_type": "markdown",
   "id": "revolutionary-terminology",
   "metadata": {},
   "source": [
    "#### 4.3.4  Redución de dimensionalidad"
   ]
  },
  {
   "cell_type": "markdown",
   "id": "supported-planet",
   "metadata": {},
   "source": [
    "La reducción de dimensionalidad trata de **reducir el número de variables** consideradas en el modelo. Su funcionalidad radica en:\n",
    "* **Eliminación de la característica**: eliminación de variables redundantes o que no proporcionan suficiente información.\n",
    "* **Extracción de variables**: formar nuevas variables a partir de las antiguas\n",
    "\n",
    "El análisis de componentes principales (**PCA**) consiste precisamente en la extracción de variables.\n",
    "<img src=\"imagenes\\reduccion dimensionalidad.png\" width=\"600\" height=\"300\" align=\"center \">"
   ]
  },
  {
   "cell_type": "code",
   "execution_count": 72,
   "id": "radio-albuquerque",
   "metadata": {},
   "outputs": [],
   "source": [
    "from pyspark.ml.feature import PCA\n",
    "from pyspark.ml.linalg import Vectors"
   ]
  },
  {
   "cell_type": "code",
   "execution_count": 73,
   "id": "static-chocolate",
   "metadata": {},
   "outputs": [],
   "source": [
    "rf = RandomForestRegressor(featuresCol='pca_features',labelCol='PrecioDeLaVivenda',)\n",
    "#código para la reducción de dimensionalidad\n",
    "pca = PCA(k=9, inputCol=\"features\", outputCol=\"pca_features\")\n",
    "pipeline = Pipeline(stages=[featureCreator,pca,rf])\n",
    "modelPCA = pipeline.fit(trainingData)\n",
    "testPCA=modelPCA.transform(testData)#.collect()[0].pca_features"
   ]
  },
  {
   "cell_type": "code",
   "execution_count": 74,
   "id": "palestinian-salmon",
   "metadata": {},
   "outputs": [
    {
     "name": "stdout",
     "output_type": "stream",
     "text": [
      "Error cuadratico medio (RMSE) sin  pca = 47609.6\n",
      "Error cuadratico medio (RMSE) con pca = 49050.6\n"
     ]
    }
   ],
   "source": [
    "rmse = evaluator.evaluate(test)\n",
    "print(\"Error cuadratico medio (RMSE) sin  pca = %g\" % rmse)\n",
    "rmse = evaluator.evaluate(testPCA)\n",
    "print(\"Error cuadratico medio (RMSE) con pca = %g\" % rmse)"
   ]
  },
  {
   "cell_type": "markdown",
   "id": "guided-lloyd",
   "metadata": {},
   "source": [
    "El error ha **aumentado ligeramente**, probablemente sea por comprimir demasiado las variables al reducir la dimensionalidad a 9."
   ]
  }
 ],
 "metadata": {
  "kernelspec": {
   "display_name": "Python 3",
   "language": "python",
   "name": "python3"
  },
  "language_info": {
   "codemirror_mode": {
    "name": "ipython",
    "version": 3
   },
   "file_extension": ".py",
   "mimetype": "text/x-python",
   "name": "python",
   "nbconvert_exporter": "python",
   "pygments_lexer": "ipython3",
   "version": "3.8.3"
  }
 },
 "nbformat": 4,
 "nbformat_minor": 5
}
